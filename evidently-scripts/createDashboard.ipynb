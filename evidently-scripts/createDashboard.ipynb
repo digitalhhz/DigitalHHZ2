{
 "cells": [
  {
   "cell_type": "code",
   "execution_count": 6,
   "id": "ed4e5c51-500d-46db-92a2-f32b7e41f65e",
   "metadata": {},
   "outputs": [
    {
     "name": "stdout",
     "output_type": "stream",
     "text": [
      "Requirement already satisfied: pandas in /opt/conda/lib/python3.9/site-packages (1.4.1)\n",
      "Requirement already satisfied: python-dateutil>=2.8.1 in /opt/conda/lib/python3.9/site-packages (from pandas) (2.8.2)\n",
      "Requirement already satisfied: pytz>=2020.1 in /opt/conda/lib/python3.9/site-packages (from pandas) (2021.3)\n",
      "Requirement already satisfied: numpy>=1.18.5 in /opt/conda/lib/python3.9/site-packages (from pandas) (1.21.5)\n",
      "Requirement already satisfied: six>=1.5 in /opt/conda/lib/python3.9/site-packages (from python-dateutil>=2.8.1->pandas) (1.16.0)\n",
      "Requirement already satisfied: evidently in /opt/conda/lib/python3.9/site-packages (0.1.45.dev0)\n",
      "Requirement already satisfied: PyYAML~=5.1 in /opt/conda/lib/python3.9/site-packages (from evidently) (5.4.1)\n",
      "Requirement already satisfied: requests>=2.19.0 in /opt/conda/lib/python3.9/site-packages (from evidently) (2.27.1)\n",
      "Requirement already satisfied: dataclasses>=0.6 in /opt/conda/lib/python3.9/site-packages (from evidently) (0.6)\n",
      "Requirement already satisfied: scikit-learn>=0.23.2 in /opt/conda/lib/python3.9/site-packages (from evidently) (1.0.2)\n",
      "Requirement already satisfied: plotly>=4.12.0 in /opt/conda/lib/python3.9/site-packages (from evidently) (5.6.0)\n",
      "Requirement already satisfied: scipy>=1.5.4 in /opt/conda/lib/python3.9/site-packages (from evidently) (1.8.0)\n",
      "Requirement already satisfied: numpy>=1.19.5 in /opt/conda/lib/python3.9/site-packages (from evidently) (1.21.5)\n",
      "Requirement already satisfied: statsmodels>=0.12.2 in /opt/conda/lib/python3.9/site-packages (from evidently) (0.13.2)\n",
      "Requirement already satisfied: pandas>=1.1.5 in /opt/conda/lib/python3.9/site-packages (from evidently) (1.4.1)\n",
      "Requirement already satisfied: python-dateutil>=2.8.1 in /opt/conda/lib/python3.9/site-packages (from pandas>=1.1.5->evidently) (2.8.2)\n",
      "Requirement already satisfied: pytz>=2020.1 in /opt/conda/lib/python3.9/site-packages (from pandas>=1.1.5->evidently) (2021.3)\n",
      "Requirement already satisfied: six in /opt/conda/lib/python3.9/site-packages (from plotly>=4.12.0->evidently) (1.16.0)\n",
      "Requirement already satisfied: tenacity>=6.2.0 in /opt/conda/lib/python3.9/site-packages (from plotly>=4.12.0->evidently) (8.0.1)\n",
      "Requirement already satisfied: charset-normalizer~=2.0.0 in /opt/conda/lib/python3.9/site-packages (from requests>=2.19.0->evidently) (2.0.12)\n",
      "Requirement already satisfied: certifi>=2017.4.17 in /opt/conda/lib/python3.9/site-packages (from requests>=2.19.0->evidently) (2021.10.8)\n",
      "Requirement already satisfied: idna<4,>=2.5 in /opt/conda/lib/python3.9/site-packages (from requests>=2.19.0->evidently) (3.3)\n",
      "Requirement already satisfied: urllib3<1.27,>=1.21.1 in /opt/conda/lib/python3.9/site-packages (from requests>=2.19.0->evidently) (1.26.8)\n",
      "Requirement already satisfied: joblib>=0.11 in /opt/conda/lib/python3.9/site-packages (from scikit-learn>=0.23.2->evidently) (1.1.0)\n",
      "Requirement already satisfied: threadpoolctl>=2.0.0 in /opt/conda/lib/python3.9/site-packages (from scikit-learn>=0.23.2->evidently) (3.1.0)\n",
      "Requirement already satisfied: patsy>=0.5.2 in /opt/conda/lib/python3.9/site-packages (from statsmodels>=0.12.2->evidently) (0.5.2)\n",
      "Requirement already satisfied: packaging>=21.3 in /opt/conda/lib/python3.9/site-packages (from statsmodels>=0.12.2->evidently) (21.3)\n",
      "Requirement already satisfied: pyparsing!=3.0.5,>=2.0.2 in /opt/conda/lib/python3.9/site-packages (from packaging>=21.3->statsmodels>=0.12.2->evidently) (3.0.7)\n",
      "Requirement already satisfied: minio in /opt/conda/lib/python3.9/site-packages (7.1.5)\n",
      "Requirement already satisfied: certifi in /opt/conda/lib/python3.9/site-packages (from minio) (2021.10.8)\n",
      "Requirement already satisfied: urllib3 in /opt/conda/lib/python3.9/site-packages (from minio) (1.26.8)\n",
      "Requirement already satisfied: python-dotenv in /opt/conda/lib/python3.9/site-packages (0.19.2)\n"
     ]
    }
   ],
   "source": [
    "! pip3 install pandas\n",
    "! pip3 install evidently\n",
    "! pip3 install minio\n",
    "! pip install python-dotenv"
   ]
  },
  {
   "cell_type": "code",
   "execution_count": 10,
   "id": "e5e1509b-21d9-4ae3-aa2a-d4dc8eac1e7a",
   "metadata": {},
   "outputs": [],
   "source": [
    "from minio import Minio\n",
    "import os\n",
    "from dotenv import load_dotenv\n",
    "load_dotenv()\n",
    "\n",
    "import pandas as pd\n",
    "\n",
    "from sklearn import datasets\n",
    "\n",
    "from evidently.dashboard import Dashboard\n",
    "from evidently.dashboard.tabs import DataDriftTab, CatTargetDriftTab\n",
    "\n",
    "from evidently.model_profile import Profile\n",
    "from evidently.model_profile.sections import DataDriftProfileSection, CatTargetDriftProfileSection "
   ]
  },
  {
   "cell_type": "code",
   "execution_count": 11,
   "id": "2a9b9ae4-2b45-46ff-97ce-fd4c03ee2845",
   "metadata": {},
   "outputs": [],
   "source": [
    "# Get environment variables\n",
    "ACCESS_KEY = os.getenv('ACCESS_KEY')\n",
    "SECRET_KEY = os.getenv('SECRET_KEY')\n"
   ]
  },
  {
   "cell_type": "code",
   "execution_count": 12,
   "id": "532f66af-1125-46f8-a312-d282c0c939ca",
   "metadata": {},
   "outputs": [],
   "source": [
    "client = Minio(\n",
    "    \"10.0.105.60:9000\",\n",
    "    access_key=ACCESS_KEY,\n",
    "    secret_key=SECRET_KEY,\n",
    "    secure=False\n",
    ")\n",
    "\n",
    "# Make 'evidently' bucket if not exist.\n",
    "found = client.bucket_exists(\"evidently\")\n",
    "if not found:\n",
    "    client.make_bucket(\"evidently\")\n",
    "else:\n",
    "    print(\"Bucket 'evidently' already exists\")\n",
    "\n",
    "# load CSV Data from MinIO\n",
    "try:\n",
    "    client.fget_object('database', 'influxDataLast1Days.csv', './influxDataLast1Days.csv')\n",
    "    client.fget_object('database', 'influxDataLast30Days.csv', './influxDataLast30Days.csv')\n",
    "except ResponseError as err:\n",
    "    print(err)"
   ]
  },
  {
   "cell_type": "code",
   "execution_count": 13,
   "id": "002fed31-e483-41f0-b2bb-b84ad18afe75",
   "metadata": {},
   "outputs": [],
   "source": [
    "import warnings\n",
    "warnings.filterwarnings('ignore')\n",
    "warnings.simplefilter('ignore')"
   ]
  },
  {
   "cell_type": "code",
   "execution_count": 14,
   "id": "9815ea5b-c1ec-486b-9718-7481e1863100",
   "metadata": {},
   "outputs": [
    {
     "data": {
      "text/html": [
       "<div>\n",
       "<style scoped>\n",
       "    .dataframe tbody tr th:only-of-type {\n",
       "        vertical-align: middle;\n",
       "    }\n",
       "\n",
       "    .dataframe tbody tr th {\n",
       "        vertical-align: top;\n",
       "    }\n",
       "\n",
       "    .dataframe thead th {\n",
       "        text-align: right;\n",
       "    }\n",
       "</style>\n",
       "<table border=\"1\" class=\"dataframe\">\n",
       "  <thead>\n",
       "    <tr style=\"text-align: right;\">\n",
       "      <th></th>\n",
       "      <th>name</th>\n",
       "      <th>time</th>\n",
       "      <th>temperature</th>\n",
       "      <th>illuminance</th>\n",
       "      <th>occupancy</th>\n",
       "    </tr>\n",
       "  </thead>\n",
       "  <tbody>\n",
       "    <tr>\n",
       "      <th>0</th>\n",
       "      <td>mqtt_consumer</td>\n",
       "      <td>1646074515218824695</td>\n",
       "      <td>14.43</td>\n",
       "      <td>8874</td>\n",
       "      <td>0</td>\n",
       "    </tr>\n",
       "    <tr>\n",
       "      <th>1</th>\n",
       "      <td>mqtt_consumer</td>\n",
       "      <td>1646301576093890487</td>\n",
       "      <td>16.53</td>\n",
       "      <td>19858</td>\n",
       "      <td>1</td>\n",
       "    </tr>\n",
       "    <tr>\n",
       "      <th>2</th>\n",
       "      <td>mqtt_consumer</td>\n",
       "      <td>1646301636349450635</td>\n",
       "      <td>16.53</td>\n",
       "      <td>19858</td>\n",
       "      <td>1</td>\n",
       "    </tr>\n",
       "    <tr>\n",
       "      <th>3</th>\n",
       "      <td>mqtt_consumer</td>\n",
       "      <td>1646301662030124532</td>\n",
       "      <td>16.53</td>\n",
       "      <td>19858</td>\n",
       "      <td>1</td>\n",
       "    </tr>\n",
       "    <tr>\n",
       "      <th>4</th>\n",
       "      <td>mqtt_consumer</td>\n",
       "      <td>1646301673214677252</td>\n",
       "      <td>16.53</td>\n",
       "      <td>19858</td>\n",
       "      <td>1</td>\n",
       "    </tr>\n",
       "    <tr>\n",
       "      <th>...</th>\n",
       "      <td>...</td>\n",
       "      <td>...</td>\n",
       "      <td>...</td>\n",
       "      <td>...</td>\n",
       "      <td>...</td>\n",
       "    </tr>\n",
       "    <tr>\n",
       "      <th>36637</th>\n",
       "      <td>mqtt_consumer</td>\n",
       "      <td>1647000513110496437</td>\n",
       "      <td>17.68</td>\n",
       "      <td>22155</td>\n",
       "      <td>0</td>\n",
       "    </tr>\n",
       "    <tr>\n",
       "      <th>36638</th>\n",
       "      <td>mqtt_consumer</td>\n",
       "      <td>1647000533052303268</td>\n",
       "      <td>17.68</td>\n",
       "      <td>22155</td>\n",
       "      <td>0</td>\n",
       "    </tr>\n",
       "    <tr>\n",
       "      <th>36639</th>\n",
       "      <td>mqtt_consumer</td>\n",
       "      <td>1647000552808629609</td>\n",
       "      <td>17.68</td>\n",
       "      <td>22155</td>\n",
       "      <td>0</td>\n",
       "    </tr>\n",
       "    <tr>\n",
       "      <th>36640</th>\n",
       "      <td>mqtt_consumer</td>\n",
       "      <td>1647000572679215470</td>\n",
       "      <td>17.68</td>\n",
       "      <td>22155</td>\n",
       "      <td>0</td>\n",
       "    </tr>\n",
       "    <tr>\n",
       "      <th>36641</th>\n",
       "      <td>mqtt_consumer</td>\n",
       "      <td>1647000592639825770</td>\n",
       "      <td>17.68</td>\n",
       "      <td>22155</td>\n",
       "      <td>0</td>\n",
       "    </tr>\n",
       "  </tbody>\n",
       "</table>\n",
       "<p>36642 rows × 5 columns</p>\n",
       "</div>"
      ],
      "text/plain": [
       "                name                 time  temperature  illuminance  occupancy\n",
       "0      mqtt_consumer  1646074515218824695        14.43         8874          0\n",
       "1      mqtt_consumer  1646301576093890487        16.53        19858          1\n",
       "2      mqtt_consumer  1646301636349450635        16.53        19858          1\n",
       "3      mqtt_consumer  1646301662030124532        16.53        19858          1\n",
       "4      mqtt_consumer  1646301673214677252        16.53        19858          1\n",
       "...              ...                  ...          ...          ...        ...\n",
       "36637  mqtt_consumer  1647000513110496437        17.68        22155          0\n",
       "36638  mqtt_consumer  1647000533052303268        17.68        22155          0\n",
       "36639  mqtt_consumer  1647000552808629609        17.68        22155          0\n",
       "36640  mqtt_consumer  1647000572679215470        17.68        22155          0\n",
       "36641  mqtt_consumer  1647000592639825770        17.68        22155          0\n",
       "\n",
       "[36642 rows x 5 columns]"
      ]
     },
     "execution_count": 14,
     "metadata": {},
     "output_type": "execute_result"
    }
   ],
   "source": [
    "# Iris Data\n",
    "iris_frame = pd.read_csv('influxDataLast30Days.csv')\n",
    "iris_frame"
   ]
  },
  {
   "cell_type": "code",
   "execution_count": 15,
   "id": "1cd6f917-b24a-4a7c-93a3-ceefc04169a1",
   "metadata": {},
   "outputs": [],
   "source": [
    "iris_frame['target'] = iris_frame.occupancy"
   ]
  },
  {
   "cell_type": "code",
   "execution_count": 16,
   "id": "c3c8b5cd-96fa-4880-83fc-962fba578ccd",
   "metadata": {},
   "outputs": [
    {
     "data": {
      "text/plain": [
       "1099"
      ]
     },
     "execution_count": 16,
     "metadata": {},
     "output_type": "execute_result"
    }
   ],
   "source": [
    "current = int(len(iris_frame.index) * 0.03)\n",
    "current"
   ]
  },
  {
   "cell_type": "code",
   "execution_count": 18,
   "id": "b4ec4185-2dd5-457d-beea-e8015fdc924c",
   "metadata": {},
   "outputs": [
    {
     "name": "stdout",
     "output_type": "stream",
     "text": [
      "HTML file is successfully uploaded to bucket 'evidently'.\n"
     ]
    }
   ],
   "source": [
    "#Target and Data Drift Dashboard\n",
    "iris_data_and_target_drift_dashboard = Dashboard(tabs=[DataDriftTab(verbose_level=0), CatTargetDriftTab(verbose_level=0)])\n",
    "iris_data_and_target_drift_dashboard.calculate(iris_frame[:current], iris_frame[current:], column_mapping=None)\n",
    "iris_data_and_target_drift_dashboard.show()\n",
    "\n",
    "iris_data_and_target_drift_dashboard.save('index.html')\n",
    "# load HTML file to MinIO\n",
    "client.fput_object(\n",
    "    \"evidently\", \"index.html\", \"./index.html\",\n",
    ")\n",
    "print(\n",
    "    \"HTML file is successfully uploaded to bucket 'evidently'.\"\n",
    ")"
   ]
  },
  {
   "cell_type": "code",
   "execution_count": null,
   "id": "d3c42c01-6197-4dcc-b5f6-0b480ace1e06",
   "metadata": {},
   "outputs": [],
   "source": []
  }
 ],
 "metadata": {
  "kernelspec": {
   "display_name": "Python 3 (ipykernel)",
   "language": "python",
   "name": "python3"
  },
  "language_info": {
   "codemirror_mode": {
    "name": "ipython",
    "version": 3
   },
   "file_extension": ".py",
   "mimetype": "text/x-python",
   "name": "python",
   "nbconvert_exporter": "python",
   "pygments_lexer": "ipython3",
   "version": "3.9.10"
  }
 },
 "nbformat": 4,
 "nbformat_minor": 5
}
